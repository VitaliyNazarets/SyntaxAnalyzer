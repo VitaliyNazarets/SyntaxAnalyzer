{
  "nbformat": 4,
  "nbformat_minor": 0,
  "metadata": {
    "colab": {
      "name": "LabParsing.ipynb",
      "provenance": [],
      "collapsed_sections": []
    },
    "kernelspec": {
      "name": "python3",
      "display_name": "Python 3"
    },
    "language_info": {
      "name": "python"
    }
  },
  "cells": [
    {
      "cell_type": "code",
      "execution_count": null,
      "metadata": {
        "colab": {
          "base_uri": "https://localhost:8080/"
        },
        "id": "n4bz61you5SF",
        "outputId": "57acb498-9376-42b2-a18e-84e5ac67b50c"
      },
      "outputs": [
        {
          "output_type": "stream",
          "name": "stdout",
          "text": [
            "Requirement already satisfied: nltk in /usr/local/lib/python3.7/dist-packages (3.2.5)\n",
            "Collecting nltk\n",
            "  Downloading nltk-3.6.5-py3-none-any.whl (1.5 MB)\n",
            "\u001b[K     |████████████████████████████████| 1.5 MB 5.1 MB/s \n",
            "\u001b[?25hRequirement already satisfied: tqdm in /usr/local/lib/python3.7/dist-packages (from nltk) (4.62.3)\n",
            "Requirement already satisfied: click in /usr/local/lib/python3.7/dist-packages (from nltk) (7.1.2)\n",
            "Collecting regex>=2021.8.3\n",
            "  Downloading regex-2021.11.10-cp37-cp37m-manylinux_2_17_x86_64.manylinux2014_x86_64.whl (749 kB)\n",
            "\u001b[K     |████████████████████████████████| 749 kB 55.2 MB/s \n",
            "\u001b[?25hRequirement already satisfied: joblib in /usr/local/lib/python3.7/dist-packages (from nltk) (1.1.0)\n",
            "Installing collected packages: regex, nltk\n",
            "\u001b[33m  WARNING: The script nltk is installed in '/root/.local/bin' which is not on PATH.\n",
            "  Consider adding this directory to PATH or, if you prefer to suppress this warning, use --no-warn-script-location.\u001b[0m\n",
            "Successfully installed nltk-3.6.5 regex-2021.11.10\n"
          ]
        }
      ],
      "source": [
        "pip install --user -U nltk"
      ]
    },
    {
      "cell_type": "code",
      "source": [
        "import nltk\n",
        "from nltk import CFG"
      ],
      "metadata": {
        "id": "UbDDK7VWviD-"
      },
      "execution_count": null,
      "outputs": []
    },
    {
      "cell_type": "code",
      "source": [
        " grammar = CFG.fromstring(\"\"\"\n",
        " Brackets -> RoundBrackets | SquareBrackets\n",
        " SquareBrackets -> 'B' | LSquareBrackets LSquareBrackets SquareBrackets RSquareBrackets LRoundBrackets RoundBrackets RRoundBrackets RSquareBrackets\n",
        " RoundBrackets -> 'A' | LRoundBrackets LRoundBrackets RoundBrackets RRoundBrackets LSquareBrackets SquareBrackets RSquareBrackets RRoundBrackets\n",
        " LRoundBrackets -> '('\n",
        " RRoundBrackets -> ')'\n",
        " LSquareBrackets -> '['\n",
        " RSquareBrackets -> ']'\n",
        " \"\"\")"
      ],
      "metadata": {
        "id": "FNNvG1670dQ4"
      },
      "execution_count": null,
      "outputs": []
    },
    {
      "cell_type": "code",
      "source": [
        "parser = nltk.ChartParser(grammar)"
      ],
      "metadata": {
        "id": "ia50JUct5JR5"
      },
      "execution_count": 106,
      "outputs": []
    },
    {
      "cell_type": "code",
      "source": [
        "#'[[[[B](A)]](A)]'\n",
        "text=input()"
      ],
      "metadata": {
        "id": "EBAnY11u51ei",
        "colab": {
          "base_uri": "https://localhost:8080/"
        },
        "outputId": "eadd57b8-2abe-4bdc-9eb4-8bed84262a3a"
      },
      "execution_count": 126,
      "outputs": [
        {
          "name": "stdout",
          "output_type": "stream",
          "text": [
            "[[[[B](A)]](A)]\n"
          ]
        }
      ]
    },
    {
      "cell_type": "code",
      "source": [
        "trees = parser.parse(text)\n",
        "for tree in trees:\n",
        "  print(tree)\n",
        "\n",
        "if len(list(trees)) == 0:\n",
        "  print(\"Unable to parse expression\")"
      ],
      "metadata": {
        "colab": {
          "base_uri": "https://localhost:8080/"
        },
        "id": "7EwG5tSW5jIK",
        "outputId": "ba1ca83b-5879-49cc-d2fb-5ee9d2facf59"
      },
      "execution_count": 127,
      "outputs": [
        {
          "output_type": "stream",
          "name": "stdout",
          "text": [
            "(Brackets\n",
            "  (SquareBrackets\n",
            "    (LSquareBrackets [)\n",
            "    (LSquareBrackets [)\n",
            "    (SquareBrackets\n",
            "      (LSquareBrackets [)\n",
            "      (LSquareBrackets [)\n",
            "      (SquareBrackets B)\n",
            "      (RSquareBrackets ])\n",
            "      (LRoundBrackets ()\n",
            "      (RoundBrackets A)\n",
            "      (RRoundBrackets ))\n",
            "      (RSquareBrackets ]))\n",
            "    (RSquareBrackets ])\n",
            "    (LRoundBrackets ()\n",
            "    (RoundBrackets A)\n",
            "    (RRoundBrackets ))\n",
            "    (RSquareBrackets ])))\n",
            "Unable to parse expression\n"
          ]
        }
      ]
    },
    {
      "cell_type": "code",
      "source": [
        "import unittest"
      ],
      "metadata": {
        "id": "jcVc-xQXE4QM"
      },
      "execution_count": 78,
      "outputs": []
    },
    {
      "cell_type": "markdown",
      "source": [
        "Unit tests"
      ],
      "metadata": {
        "id": "x54lGfmWN0Dy"
      }
    },
    {
      "cell_type": "code",
      "source": [
        "tc = unittest.TestCase()\n",
        "\n",
        "testCases = [('(', 0), ('A',1), ('[[[[B](A)]](A)]',1), ('',0)]\n",
        "\n",
        "for text, expected in testCases:\n",
        "  result = len(list(parser.parse(text)))\n",
        "  tc.assertEqual(result, expected)\n"
      ],
      "metadata": {
        "id": "wmyD1D7cE5bD"
      },
      "execution_count": 125,
      "outputs": []
    }
  ]
}